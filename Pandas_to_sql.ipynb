{
 "cells": [
  {
   "cell_type": "code",
   "execution_count": 9,
   "metadata": {},
   "outputs": [
    {
     "name": "stdout",
     "output_type": "stream",
     "text": [
      "Error while inserting data: (psycopg2.errors.UniqueViolation) duplicate key value violates unique constraint \"skills_dim_pkey\"\n",
      "DETAIL:  Key (skill_id)=(0) already exists.\n",
      "\n",
      "[SQL: INSERT INTO skills_dim (skill_id, skills, type) VALUES (%(skill_id__0)s, %(skills__0)s, %(type__0)s), (%(skill_id__1)s, %(skills__1)s, %(type__1)s), (%(skill_id__2)s, %(skills__2)s, %(type__2)s), (%(skill_id__3)s, %(skills__3)s, %(type__3)s), (%(skil ... 13100 characters truncated ... kill_id__257)s, %(skills__257)s, %(type__257)s), (%(skill_id__258)s, %(skills__258)s, %(type__258)s)]\n",
      "[parameters: {'skill_id__0': 0, 'skills__0': 'sql', 'type__0': 'programming', 'skill_id__1': 1, 'skills__1': 'python', 'type__1': 'programming', 'skill_id__2': 2, 'skills__2': 'nosql', 'type__2': 'programming', 'skill_id__3': 3, 'skills__3': 'scala', 'type__3': 'programming', 'skill_id__4': 4, 'skills__4': 'java', 'type__4': 'programming', 'skill_id__5': 5, 'skills__5': 'r', 'type__5': 'programming', 'skill_id__6': 6, 'skills__6': 'shell', 'type__6': 'programming', 'skill_id__7': 7, 'skills__7': 'sas', 'type__7': 'programming', 'skill_id__8': 8, 'skills__8': 'go', 'type__8': 'programming', 'skill_id__9': 9, 'skills__9': 'javascript', 'type__9': 'programming', 'skill_id__10': 10, 'skills__10': 'html', 'type__10': 'programming', 'skill_id__11': 11, 'skills__11': 'css', 'type__11': 'programming', 'skill_id__12': 12, 'skills__12': 'bash', 'type__12': 'programming', 'skill_id__13': 13, 'skills__13': 'c++', 'type__13': 'programming', 'skill_id__14': 14, 'skills__14': 'c#', 'type__14': 'programming', 'skill_id__15': 15, 'skills__15': 'matlab', 'type__15': 'programming', 'skill_id__16': 16, 'skills__16': 't-sql' ... 677 parameters truncated ... 'skills__242': 'clickup', 'type__242': 'async', 'skill_id__243': 243, 'skills__243': 'workfront', 'type__243': 'async', 'skill_id__244': 244, 'skills__244': 'microsoft lists', 'type__244': 'async', 'skill_id__245': 245, 'skills__245': 'wimi', 'type__245': 'async', 'skill_id__246': 246, 'skills__246': 'dingtalk', 'type__246': 'async', 'skill_id__247': 247, 'skills__247': 'slack', 'type__247': 'sync', 'skill_id__248': 248, 'skills__248': 'zoom', 'type__248': 'sync', 'skill_id__249': 249, 'skills__249': 'microsoft teams', 'type__249': 'sync', 'skill_id__250': 250, 'skills__250': 'twilio', 'type__250': 'sync', 'skill_id__251': 251, 'skills__251': 'ringcentral', 'type__251': 'sync', 'skill_id__252': 252, 'skills__252': 'unify', 'type__252': 'sync', 'skill_id__253': 253, 'skills__253': 'wire', 'type__253': 'sync', 'skill_id__254': 254, 'skills__254': 'symphony', 'type__254': 'sync', 'skill_id__255': 255, 'skills__255': 'webex', 'type__255': 'sync', 'skill_id__256': 256, 'skills__256': 'mattermost', 'type__256': 'sync', 'skill_id__257': 257, 'skills__257': 'google chat', 'type__257': 'sync', 'skill_id__258': 258, 'skills__258': 'rocketchat', 'type__258': 'sync'}]\n",
      "(Background on this error at: https://sqlalche.me/e/20/gkpj)\n"
     ]
    }
   ],
   "source": [
    "import pandas as pd\n",
    "from sqlalchemy import create_engine\n",
    "\n",
    "# Database connection details\n",
    "DB_TYPE = \"postgresql\"  # Change to \"postgresql\" or \"sqlite\" if needed\n",
    "DB_HOST = \"localhost\"  # Example: \"localhost\" or \"127.0.0.1\"\n",
    "DB_PORT = \"5432\"  # MySQL default port, change accordingly\n",
    "DB_NAME = \"sql_course\"\n",
    "DB_USER = \"postgres\"\n",
    "DB_PASSWORD = \"xxs3rnyo\"\n",
    "\n",
    "# CSV file path\n",
    "CSV_FILE_PATH = r\"D:\\Python_Projects\\SQL_Course\\csv_files\\skills_dim.csv\"\n",
    "\n",
    "# Database table name\n",
    "TABLE_NAME = \"skills_dim\"\n",
    "\n",
    "# Create a connection string for SQLAlchemy\n",
    "if DB_TYPE == \"mysql\":\n",
    "    engine = create_engine(f\"mysql+pymysql://{DB_USER}:{DB_PASSWORD}@{DB_HOST}:{DB_PORT}/{DB_NAME}\")\n",
    "elif DB_TYPE == \"postgresql\":\n",
    "    engine = create_engine(f\"postgresql+psycopg2://{DB_USER}:{DB_PASSWORD}@{DB_HOST}:{DB_PORT}/{DB_NAME}\")\n",
    "elif DB_TYPE == \"sqlite\":\n",
    "    engine = create_engine(f\"sqlite:///{DB_NAME}\")\n",
    "\n",
    "# Load the CSV file into a Pandas DataFrame\n",
    "df = pd.read_csv(CSV_FILE_PATH)\n",
    "\n",
    "# Upload data to SQL table\n",
    "try:\n",
    "    df.to_sql(TABLE_NAME, con=engine, if_exists=\"append\", index=False)\n",
    "    print(f\"Data successfully inserted into {TABLE_NAME}\")\n",
    "except Exception as e:\n",
    "    print(\"Error while inserting data:\", e)\n"
   ]
  }
 ],
 "metadata": {
  "kernelspec": {
   "display_name": "python_course",
   "language": "python",
   "name": "python3"
  },
  "language_info": {
   "codemirror_mode": {
    "name": "ipython",
    "version": 3
   },
   "file_extension": ".py",
   "mimetype": "text/x-python",
   "name": "python",
   "nbconvert_exporter": "python",
   "pygments_lexer": "ipython3",
   "version": "3.11.9"
  }
 },
 "nbformat": 4,
 "nbformat_minor": 2
}
